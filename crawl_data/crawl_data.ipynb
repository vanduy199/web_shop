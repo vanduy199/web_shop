{
 "cells": [
  {
   "cell_type": "code",
   "execution_count": 1,
   "id": "994bbc8f",
   "metadata": {},
   "outputs": [],
   "source": [
    "from numpy import get_include\n",
    "from selenium import webdriver\n",
    "from selenium.webdriver.chrome.service import Service\n",
    "from selenium.webdriver.common.by import By\n",
    "from webdriver_manager.chrome import ChromeDriverManager\n",
    "import pandas as pd\n",
    "import time\n",
    "\n",
    "# Khởi tạo trình duyệt\n",
    "driver = webdriver.Chrome(service=Service(ChromeDriverManager().install()))\n",
    "\n",
    "# Mở 1 trang sản phẩm\n",
    "def get_csv(url):\n",
    "    driver.get(url)\n",
    "    time.sleep(0.5)\n",
    "    # Lấy tên sản phẩm\n",
    "    try:\n",
    "        name = driver.find_element(By.TAG_NAME, \"h1\").text\n",
    "        # Lấy giá\n",
    "        def getprice():\n",
    "            try:\n",
    "                return driver.find_element(By.CLASS_NAME, \"bs_price\").find_element(By.TAG_NAME, \"em\").text\n",
    "            except:\n",
    "                try:\n",
    "                    return driver.find_element(By.CLASS_NAME, \"box-price-present\").text\n",
    "                except:\n",
    "                    return driver.find_element(By.CLASS_NAME, \"option-price\").text\n",
    "\n",
    "\n",
    "        print(\"Tên:\", name)\n",
    "        # print(\"Giá:\", getprice())\n",
    "\n",
    "        tag_exist = ['Cấu hình']\n",
    "\n",
    "        def safe_click_get_info(driver, selector):\n",
    "            try:\n",
    "                element = driver.find_element(By.CSS_SELECTOR, selector)\n",
    "                tab_name = element.find_element(By.TAG_NAME, \"h3\").text\n",
    "                tag_exist.append(tab_name)\n",
    "                driver.execute_script(\"arguments[0].click();\", element)\n",
    "            except:\n",
    "                pass\n",
    "\n",
    "        # Click các tab\n",
    "        for i in range(2, 17):\n",
    "            safe_click_get_info(driver, f'a[data-index=\"{i}\"]')\n",
    "\n",
    "        # Thu thập dữ liệu cấu hình\n",
    "        specs_data = []\n",
    "        uls = driver.find_elements(By.CSS_SELECTOR, \"ul.text-specifi.active\")\n",
    "        for i, ul in enumerate(uls, start=1):\n",
    "            lis = ul.find_elements(By.CSS_SELECTOR, \"li\")\n",
    "            key_x = tag_exist[i-1]\n",
    "            temp = []\n",
    "            for li in lis:\n",
    "                asides = li.find_elements(By.CSS_SELECTOR, \"aside\")\n",
    "                if len(asides) >= 2:\n",
    "                    key = asides[0].text.strip()[:-1]\n",
    "                    # lấy toàn bộ text con trong aside[1] (phân cách bằng |)\n",
    "                    values = [v.strip() for v in asides[1].text.split(\"\\n\") if v.strip()]\n",
    "                    value = \" | \".join(values)\n",
    "                    temp.append((key, value))\n",
    "            specs_data.append((key_x,temp))\n",
    "\n",
    "        # Lấy ảnh\n",
    "        def get_img(selector):\n",
    "            results = []\n",
    "            elements = driver.find_elements(By.CSS_SELECTOR, selector)\n",
    "            for el in elements:\n",
    "                thumb = el.get_attribute(\"data-thumb\")\n",
    "                img = el.find_element(By.TAG_NAME, \"img\")\n",
    "                src = img.get_attribute(\"src\") or img.get_attribute(\"data-src\")\n",
    "                results.append((thumb, src))\n",
    "            return results\n",
    "\n",
    "        imgs = []\n",
    "        for i in range(1, 7):\n",
    "            imgs.extend(get_img(f\"div.owl-item.slidenumber{i} .item-img\"))\n",
    "\n",
    "        def get_img_all():\n",
    "            try:\n",
    "                elements = driver.find_element(By.CSS_SELECTOR, \"div.img-main.specification-img\")\n",
    "                return elements.find_element(By.CSS_SELECTOR,\"img\").get_attribute(\"src\")\n",
    "            except:\n",
    "                pass\n",
    "                return ''\n",
    "            \n",
    "        # Gộp dữ liệu\n",
    "        data = {\n",
    "            \"Tên\": name,\n",
    "            \"Cấu hình\": \"; \".join([f\"{k}: {v}\" for k, v in specs_data]),\n",
    "            \"Ảnh\": \"; \".join([src for thumb, src in imgs]),\n",
    "            \"Ảnh tổng thế\": get_img_all()\n",
    "        }\n",
    "        return data\n",
    "    except:\n",
    "        pass\n",
    "        return []\n",
    "urls = []\n",
    "pricess = []\n",
    "def geturls(s):\n",
    "    driver = webdriver.Chrome(service=Service(ChromeDriverManager().install()))\n",
    "    driver.get(f\"https://www.thegioididong.com/phu-kien/{s}\")\n",
    "    time.sleep(2)  # Chờ trang load, xử lý \"Xem thêm\"\n",
    "\n",
    "    links = driver.find_elements(By.CSS_SELECTOR, \"a[href^='/phu-kien/']\")\n",
    "    unique_links = []\n",
    "    prices = []\n",
    "    for a in links:\n",
    "        href = a.get_attribute(\"href\")\n",
    "        price = a.get_attribute(\"data-price\")\n",
    "        if href and href.startswith(\"https://www.thegioididong.com/phu-kien/\"):\n",
    "            if href not in unique_links:\n",
    "                unique_links.append(href)\n",
    "                prices.append(price)\n",
    "        if len(unique_links) >= 30:\n",
    "            break\n",
    "    return unique_links, prices\n",
    "\n",
    "phone = ['samsung','apple','baseus','ugreen','sandisk']\n",
    "for i in phone:\n",
    "    us, ps = geturls(i)\n",
    "    for u in us:\n",
    "        urls.append(u)\n",
    "    for p in ps:\n",
    "        pricess.append(p)\n",
    "\n",
    "# Xuất CSV\n",
    "data = []\n",
    "for i in range(len(urls)):\n",
    "    a = get_csv(urls[i])\n",
    "    if a != []:\n",
    "        a['Giá'] = pricess[i]\n",
    "        data.append(a)\n",
    "        \n",
    "df = pd.DataFrame(data)\n",
    "df.to_csv(\"product_phukien.csv\", index=False, encoding=\"utf-8-sig\")\n"
   ]
  },
  {
   "cell_type": "code",
   "execution_count": 8,
   "id": "8a9ae541",
   "metadata": {},
   "outputs": [],
   "source": [
    "from numpy import get_include\n",
    "from selenium import webdriver\n",
    "from selenium.webdriver.chrome.service import Service\n",
    "from selenium.webdriver.common.by import By\n",
    "from webdriver_manager.chrome import ChromeDriverManager\n",
    "import pandas as pd\n",
    "import time\n",
    "driver = webdriver.Chrome(service=Service(ChromeDriverManager().install()))\n",
    "# Khởi tạo trình duyệt\n",
    "def geticon(s):\n",
    "    driver.get(f\"https://www.thegioididong.com/may-tinh-bang-{s}\")\n",
    "    time.sleep(2)  # Chờ trang load, xử lý \"Xem thêm\"\n",
    "\n",
    "    names = driver.find_elements(By.CSS_SELECTOR, \".listproduct h3\")\n",
    "\n",
    "    name_product = []\n",
    "    img_product = []\n",
    "    for a in names:\n",
    "        imgs = driver.find_element(By.CSS_SELECTOR, f'img[alt=\"{a.text}\"]').get_attribute('src')\n",
    "        if not imgs:\n",
    "            imgs = driver.find_element(By.CSS_SELECTOR, f'img[alt=\"{a.text}\"]').get_attribute('data-src')\n",
    "        name_product.append(a.get_attribute(\"title\"))\n",
    "        img_product.append(imgs)\n",
    "    return name_product,img_product\n",
    "phone = ['samsung','apple-ipad','oppo','lenovo','xiaomi']\n",
    "name_products = []\n",
    "img_products = []\n",
    "for i in phone:\n",
    "    names,imgs = geticon(i)\n",
    "    for name in names:\n",
    "        name_products.append(name)\n",
    "    for img in imgs:\n",
    "        img_products.append(img)\n",
    "driver.close()\n",
    "df = pd.DataFrame(\n",
    "    {\n",
    "        'Name': name_products,\n",
    "        'thumb': img_products\n",
    "    }\n",
    ")\n",
    "df.to_csv('thumb_tablet.csv',index = False)"
   ]
  },
  {
   "cell_type": "code",
   "execution_count": 8,
   "id": "a3976ad9",
   "metadata": {},
   "outputs": [
    {
     "data": {
      "application/vnd.microsoft.datawrangler.viewer.v0+json": {
       "columns": [
        {
         "name": "index",
         "rawType": "int64",
         "type": "integer"
        },
        {
         "name": "Name",
         "rawType": "object",
         "type": "string"
        },
        {
         "name": "thumb",
         "rawType": "object",
         "type": "string"
        }
       ],
       "ref": "f44da10d-73d5-44ff-bf7c-563f893fb039",
       "rows": [
        [
         "0",
         "Laptop MacBook Air 13 inch M4 16GB/256GB",
         "https://cdn.tgdd.vn/Products/Images/44/335362/macbook-air-13-inch-m4-xanh-den-600x600.jpg"
        ],
        [
         "1",
         "Laptop MacBook Air 13 inch M2 16GB/256GB",
         "https://cdn.tgdd.vn/Products/Images/44/289472/apple-macbook-air-m2-2022-xanh-den-1-2-600x600.jpg"
        ],
        [
         "2",
         "Laptop MacBook Air 15 inch M4 16GB/256GB",
         "https://cdn.tgdd.vn/Products/Images/44/335372/macbook-air-15-inch-m4-xanh-den-600x600.jpg"
        ],
        [
         "3",
         "Laptop MacBook Pro 14 inch M4 16GB/512GB",
         "https://cdn.tgdd.vn/Products/Images/44/331564/macbook-pro-14-inch-m4-thumb-den-600x600.jpg"
        ],
        [
         "4",
         "Laptop MacBook Pro 14 inch M4 16GB/1TB",
         "https://cdn.tgdd.vn/Products/Images/44/331566/macbook-pro-14-inch-m4-16gb-1tb-thumb-600x600.jpg"
        ],
        [
         "5",
         "Laptop MacBook Pro 14 inch M4 Pro 24GB/512GB",
         "https://cdn.tgdd.vn/Products/Images/44/331568/macbook-pro-14-inch-m4-pro-den-600x600.jpg"
        ],
        [
         "6",
         "Laptop MacBook Pro 14 inch Nano M4 Pro 24GB/512GB",
         "https://cdn.tgdd.vn/Products/Images/44/332450/macbook-pro-14-inch-m4-pro-den-600x600.jpg"
        ],
        [
         "7",
         "Laptop MacBook Air 13 inch M4 16GB/256GB Sạc 70W",
         "https://cdnv2.tgdd.vn/mwg-static/tgdd/Products/Images/44/342024/macbook-air-13-inch-m4-16gb-256gb-sac-70w-thumb1-638903386914459770-600x600.jpg"
        ],
        [
         "8",
         "Laptop MacBook Air 13 inch M1 8GB/256GB",
         "https://cdn.tgdd.vn/Products/Images/44/231244/231244-600x600.jpg"
        ],
        [
         "9",
         "Laptop MacBook Air 13 inch M4 24GB/256GB",
         "https://cdn.tgdd.vn/Products/Images/44/335366/macbook-air-13-inch-m4-vang-600x600.jpg"
        ],
        [
         "10",
         "Laptop MacBook Pro 14 inch Nano M4 Max 36GB/1TB",
         "https://cdn.tgdd.vn/Products/Images/44/332451/macbook-pro-14-nano-m4-max-den-600x600.jpg"
        ],
        [
         "11",
         "Laptop MacBook Pro 14 inch Nano M4 16GB/512GB",
         "https://cdn.tgdd.vn/Products/Images/44/332448/macbook-pro-14-inch-m4-thumb-den-600x600.jpg"
        ],
        [
         "12",
         "Laptop MacBook Air 13 inch M4 32GB/256GB",
         "https://cdn.tgdd.vn/Products/Images/44/335369/macbook-air-13-inch-m4-xanh-da-troi-600x600.jpg"
        ],
        [
         "13",
         "Laptop Dell Inspiron 15 3530 - N5I5530W1 (i5 1334U, 16GB, 512GB, Full HD 120Hz, OfficeH24+365, Win11)",
         "https://cdnv2.tgdd.vn/mwg-static/tgdd/Products/Images/44/334803/dell-inspiron-15-3530-i5-n5i5530w1-thumb-638762534676491196-600x600.jpg"
        ],
        [
         "14",
         "Laptop Dell Inspiron 15 3520 - 25P231 (i5 1235U, 16GB, 512GB, Full HD 120Hz, OfficeHS, KYHD, Win11)",
         "https://cdnv2.tgdd.vn/mwg-static/tgdd/Products/Images/44/321192/dell-inspiron-15-3520-i5-25p231-thumb-638754902669914908-600x600.jpg"
        ],
        [
         "15",
         "Laptop Dell Inspiron 15 3520 - 71064798 (i5 1235U, 16GB, 512GB, Full HD 120Hz, OfficeH24+365, KYHD, Win11)",
         "https://cdnv2.tgdd.vn/mwg-static/tgdd/Products/Images/44/337470/dell-inspiron-15-3520-i5-71064798-thumb-638828184201929000-600x600.jpg"
        ],
        [
         "16",
         "Laptop Dell Inspiron 15 3530 - N5I7216W1 (i7 1355U, 16GB, 512GB, Full HD 120Hz, OfficeH24+365, Win11)",
         "https://cdnv2.tgdd.vn/mwg-static/tgdd/Products/Images/44/338311/dell-inspiron-15-3530-i7-n5i7216w1-thumb-638840241952547194-600x600.jpg"
        ],
        [
         "17",
         "Laptop Dell Latitude 3450 - L3450-1335U-16512WN (i5 1335U, 16GB, 512GB, Full HD, Win11)",
         "https://cdnv2.tgdd.vn/mwg-static/tgdd/Products/Images/44/339679/dell-latitude-3450-i5-l34501335u16512wn-638895751182170399-600x600.jpg"
        ],
        [
         "18",
         "Laptop Dell Gaming Alienware 16 Aurora AC16250 - 71072939 (Core 5 210H, 16GB, 512GB, RTX 3050 6GB, WQXGA 120Hz, OfficeH24+365, Win11)",
         "https://cdnv2.tgdd.vn/mwg-static/tgdd/Products/Images/44/341563/dell-alienware-16-aurora-ac16250-core-5-210h-71072939-thumb-638893894678228760-600x600.jpg"
        ],
        [
         "19",
         "Laptop Dell Inspiron 15 3520 - N5I5057W1 (i5 1235U, 16GB, 512GB, Full HD 120Hz, OfficeHS, Win11)",
         "https://cdnv2.tgdd.vn/mwg-static/tgdd/Products/Images/44/333886/dell-inspiron-15-3520-i5-n5i5057w1-638774726911323154-600x600.jpg"
        ],
        [
         "20",
         "Laptop Dell Inspiron 15 3520 - 71053682 (i7 1255U, 16GB, 512GB, Full HD 120Hz, OfficeHS, Win11)",
         "https://cdnv2.tgdd.vn/mwg-static/tgdd/Products/Images/44/333104/dell-inspiron-15-3520-i7-71053682-thumb-638760098370549871-600x600.jpg"
        ],
        [
         "21",
         "Laptop Dell Inspiron 15 3530 - P16WD (i7 1355U, 16GB, 1TB, Full HD 120Hz, OfficeHS, Win11)",
         "https://cdnv2.tgdd.vn/mwg-static/tgdd/Products/Images/44/325247/dell-inspiron-15-3530-i7-p16wd-thumb-638754948496889615-600x600.jpg"
        ],
        [
         "22",
         "Laptop Dell Inspiron 15 3520 - N3520-i5U165W11SLU-BL (i5 1235U, 16GB, 512GB, Full HD 120Hz, OfficeH24+365, Win11)",
         "https://cdnv2.tgdd.vn/mwg-static/tgdd/Products/Images/44/337476/dell-inspiron-15-3520-i5-n3520i5u165w11slubl-290425-115203-353-600x600.jpg"
        ],
        [
         "23",
         "Laptop Dell Inspiron 15 3520 - N3520-i5U085W11SLU (i5 1235U, 8GB, 512GB, Full HD 120Hz, OfficeH24+365, Win11)",
         "https://cdnv2.tgdd.vn/mwg-static/tgdd/Products/Images/44/337474/dell-inspiron-15-3520-i5-n3520i5u085w11slu-290425-115021-064-600x600.jpg"
        ],
        [
         "24",
         "Laptop Dell Inspiron 15 3530 - P16WD22 (i5 1334U, 16GB, 512GB, Full HD 120Hz, OfficeH24+365, Win11)",
         "https://cdnv2.tgdd.vn/mwg-static/tgdd/Products/Images/44/339681/dell-inspiron-15-3530-i5-p16wd22-638895760085626264-600x600.jpg"
        ],
        [
         "25",
         "Laptop Dell Inspiron 15 3530 - 71070372 (i5 1334U, 16GB, 512GB, Full HD 120Hz, OfficeH24+365, Win11)",
         "https://cdnv2.tgdd.vn/mwg-static/tgdd/Products/Images/44/340560/dell-inspiron-15-3530-i5-71070372-638900114510203065-600x600.jpg"
        ],
        [
         "26",
         "Laptop Dell Inspiron 15 3530 - N3530-i7U161W11SLU (i7 1355U, 16GB, 1TB, Full HD 120Hz, OfficeH24+365, Win11)",
         "https://cdnv2.tgdd.vn/mwg-static/tgdd/Products/Images/44/340559/dell-inspiron-15-3530-i7-n3530-i7u161w11slu-638900114347898134-600x600.jpg"
        ],
        [
         "27",
         "Laptop Dell Inspiron 15 3520 - 25P2315 (i7 1255U, 16GB, 512GB, Full HD 120Hz, OfficeHS, KYHD, Win11)",
         "https://cdnv2.tgdd.vn/mwg-static/tgdd/Products/Images/44/333103/dell-inspiron-15-3520-i7-25p2315-thumb-638760098242571857-600x600.jpg"
        ],
        [
         "28",
         "Laptop Dell Inspiron 15 3530 - N3530-i5U165W11SLU-BL (i5 1334U, 16GB, 512GB, Full HD 120Hz, OfficeH24+365, Win11)",
         "https://cdnv2.tgdd.vn/mwg-static/tgdd/Products/Images/44/338316/dell-inspiron-15-3530-i5-n3530-i5u165w11slu-bl-thumb-638840243364698500-600x600.jpg"
        ],
        [
         "29",
         "Laptop Dell Inspiron 15 3520 - N3520-i7U165W11BLU-FP (i7 1255U, 16GB, 512GB, Full HD 120Hz, OfficeHS, Win11)",
         "https://cdnv2.tgdd.vn/mwg-static/tgdd/Products/Images/44/333102/dell-inspiron-15-3520-i7-n3520i7u165w11blufp-thumb-638760098095158958-600x600.jpg"
        ],
        [
         "30",
         "Laptop Dell Inspiron 15 3530 - 71053721 (i7 1355U, 16GB, 512GB, Full HD 120Hz, OfficeH24+365, Win11)",
         "https://cdnv2.tgdd.vn/mwg-static/tgdd/Products/Images/44/337472/dell-inspiron-15-3530-i7-71053721-638900879577580798-600x600.jpg"
        ],
        [
         "31",
         "Laptop Dell Inspiron 15 3520 - N3520-i7U165W11SLU-BL (i7 1255U, 16GB, 512GB, Full HD 120Hz, OfficeH24+365, Win11)",
         "https://cdnv2.tgdd.vn/mwg-static/tgdd/Products/Images/44/337475/dell-inspiron-15-3520-i7-n3520i7u165w11slu-bl-290425-115148-383-600x600.jpg"
        ],
        [
         "32",
         "Laptop Dell Inspiron 15 3530 - N3530-i5U165W11SLU-HS24 (i5 1334U, 16GB, Full HD 120Hz, OfficeH24+365, Win11)",
         "https://cdnv2.tgdd.vn/mwg-static/tgdd/Products/Images/44/340558/dell-inspiron-15-3530-i5-n3530-i5u165w11slu-hs24-638900112743874982-600x600.jpg"
        ],
        [
         "33",
         "Laptop Asus Vivobook Go 15 E1504FA - NJ776W (R5 7520U, 16GB, 512GB, Full HD, Win11)",
         "https://cdnv2.tgdd.vn/mwg-static/tgdd/Products/Images/44/311178/asus-vivobook-go-15-e1504fa-r5-nj776w-140225-100949-251-600x600.jpg"
        ],
        [
         "34",
         "Laptop Asus Vivobook 15 X1504VA - NJ1634W (i3 1315U, 8GB, 512GB, Full HD, Win11)",
         "https://cdnv2.tgdd.vn/mwg-static/tgdd/Products/Images/44/334792/asus-vivobook-15-x1504va-i3-nj1634w-thumb-638760891054481940-600x600.jpg"
        ],
        [
         "35",
         "Laptop Asus Vivobook 15 X1504VA - BQ185WS (Core 5 120U, 16GB, 512GB, Full HD, OfficeH24+365, Win11)",
         "https://cdnv2.tgdd.vn/mwg-static/tgdd/Products/Images/44/338323/asus-x1504va-core-5-bq185ws-thumb2-638929335505560781-600x600.jpg"
        ],
        [
         "36",
         "Laptop Asus Vivobook 15 OLED A1505VA - MA515WS (i5 13420H, 16GB, 512GB, 2.8K OLED 120Hz, OfficeH24+365, Win11)",
         "https://cdnv2.tgdd.vn/mwg-static/tgdd/Products/Images/44/340564/asus-vivobook-a1505va-i5-ma515ws-638900118156942901-600x600.jpg"
        ],
        [
         "37",
         "Laptop Asus TUF Gaming F15 FX507ZC4 - HN330W (i5 12500H, 16GB, 512GB, RTX 3050 4GB, Full HD 144Hz, Win11)",
         "https://cdnv2.tgdd.vn/mwg-static/tgdd/Products/Images/44/328235/asus-gaming-tuf-f15-fx507zc4-i5-hn330w-170225-112440-295-600x600.jpg"
        ],
        [
         "38",
         "Laptop Asus Gaming Vivobook K3605ZF - RP745W (i5 12500H, 16GB, 512GB, RTX 2050 4GB, WUXGA 144Hz, Win11)",
         "https://cdnv2.tgdd.vn/mwg-static/tgdd/Products/Images/44/328237/asus-vivobook-k3605zf-i5-rp745w-170225-112521-757-600x600.jpg"
        ],
        [
         "39",
         "Laptop Asus Vivobook 14 X1404VA - EB155WS (Core 5 120U, 16GB, 512GB, Full HD, OfficeH24+365, Win11)",
         "https://cdnv2.tgdd.vn/mwg-static/tgdd/Products/Images/44/339683/asus-vivobook-14-x1404va-core-5-eb155ws-638895760599785280-600x600.jpg"
        ],
        [
         "40",
         "Laptop Asus TUF Gaming A15 FA507NUR - LP057W (R7 7435HS, 16GB, 512GB, RTX 4050 6GB, Full HD 144Hz, Win11)",
         "https://cdnv2.tgdd.vn/mwg-static/tgdd/Products/Images/44/327872/asus-fa507nur-r7-lp057w-170225-111046-401-600x600.jpg"
        ],
        [
         "41",
         "Laptop Asus Gaming Vivobook K3605ZC - RP629W (i5 12500H, 16GB, 512GB, RTX 3050 4GB, WUXGA 144Hz, Win11)",
         "https://cdnv2.tgdd.vn/mwg-static/tgdd/Products/Images/44/328238/asus-vivobook-k3605zc-i5-rp629w-170225-112605-145-600x600.jpg"
        ],
        [
         "42",
         "Laptop Asus Gaming Vivobook K3605VC - RP364W (i5 13420H, 16GB, 512GB, RTX 3050 4GB, WUXGA 144Hz, Win11)",
         "https://cdnv2.tgdd.vn/mwg-static/tgdd/Products/Images/44/338324/asus-k3605vc-i5-rp364w-thumb-638839519987207839-600x600.jpg"
        ],
        [
         "43",
         "Laptop Asus TUF Gaming F16 FX607VJ - RL034W (Core 5 210H, 16GB, 512GB, RTX 3050 6GB, Full HD+ 144Hz, Win11)",
         "https://cdnv2.tgdd.vn/mwg-static/tgdd/Products/Images/44/339687/asus-tuf-gaming-f16-fx607vj-core-5-rl034w-638895762903744422-600x600.jpg"
        ],
        [
         "44",
         "Laptop Asus Vivobook 15 X1502VA - BQ986WS (i7 13620H, 16GB, 512GB, Full HD, OfficeH24+365, Win11)",
         "https://cdnv2.tgdd.vn/mwg-static/tgdd/Products/Images/44/338318/asus-x1502va-i7-bq986ws-638900879461235815-600x600.jpg"
        ],
        [
         "45",
         "Laptop Asus TUF Gaming A15 FA506NFR - HN113W (R7 7435HS, 16GB, 512GB, RTX 2050 4GB, Full HD 144Hz, Win11)",
         "https://cdnv2.tgdd.vn/mwg-static/tgdd/Products/Images/44/330162/asus-fa506nfr-r7-hn113w-170225-113243-035-600x600.jpg"
        ],
        [
         "46",
         "Laptop Asus Vivobook 15 OLED A1505VA - MA467W (i5 13500H, 16GB, 512GB, 2.8K OLED 120Hz, Win11)",
         "https://cdnv2.tgdd.vn/mwg-static/tgdd/Products/Images/44/328949/asus-vivobook-15-oled-a1505va-i5-ma467w-170225-112915-031-600x600.jpg"
        ],
        [
         "47",
         "Laptop Asus Vivobook 15 X1504VA - BQ2225WS (i5 1334U, 16GB, 512GB, Full HD, OfficeH24+365, Win11)",
         "https://cdnv2.tgdd.vn/mwg-static/tgdd/Products/Images/44/336036/asus-vivobook-15-x1504va-i5-bq2225ws-thumb-638787552859411571-600x600.jpg"
        ],
        [
         "48",
         "Laptop Asus Vivobook 16 X1605VA - MB1876WS (i5 13420H, 16GB, 512GB, WUXGA, OfficeH24+365, Win11)",
         "https://cdnv2.tgdd.vn/mwg-static/tgdd/Products/Images/44/334794/asus-vivobook-16-x1605va-i5-mb1876ws-160625-102211-696-600x600.jpg"
        ],
        [
         "49",
         "Laptop Asus Vivobook S16 S3607VA - RP055WS (i5 13420H, 16GB, 512GB, WUXGA 144Hz, OfficeH24+365, Win11)",
         "https://cdnv2.tgdd.vn/mwg-static/tgdd/Products/Images/44/338322/asus-s3607va-i5-rp055ws-638851479822036683-600x600.jpg"
        ]
       ],
       "shape": {
        "columns": 2,
        "rows": 73
       }
      },
      "text/html": [
       "<div>\n",
       "<style scoped>\n",
       "    .dataframe tbody tr th:only-of-type {\n",
       "        vertical-align: middle;\n",
       "    }\n",
       "\n",
       "    .dataframe tbody tr th {\n",
       "        vertical-align: top;\n",
       "    }\n",
       "\n",
       "    .dataframe thead th {\n",
       "        text-align: right;\n",
       "    }\n",
       "</style>\n",
       "<table border=\"1\" class=\"dataframe\">\n",
       "  <thead>\n",
       "    <tr style=\"text-align: right;\">\n",
       "      <th></th>\n",
       "      <th>Name</th>\n",
       "      <th>thumb</th>\n",
       "    </tr>\n",
       "  </thead>\n",
       "  <tbody>\n",
       "    <tr>\n",
       "      <th>0</th>\n",
       "      <td>Laptop MacBook Air 13 inch M4 16GB/256GB</td>\n",
       "      <td>https://cdn.tgdd.vn/Products/Images/44/335362/...</td>\n",
       "    </tr>\n",
       "    <tr>\n",
       "      <th>1</th>\n",
       "      <td>Laptop MacBook Air 13 inch M2 16GB/256GB</td>\n",
       "      <td>https://cdn.tgdd.vn/Products/Images/44/289472/...</td>\n",
       "    </tr>\n",
       "    <tr>\n",
       "      <th>2</th>\n",
       "      <td>Laptop MacBook Air 15 inch M4 16GB/256GB</td>\n",
       "      <td>https://cdn.tgdd.vn/Products/Images/44/335372/...</td>\n",
       "    </tr>\n",
       "    <tr>\n",
       "      <th>3</th>\n",
       "      <td>Laptop MacBook Pro 14 inch M4 16GB/512GB</td>\n",
       "      <td>https://cdn.tgdd.vn/Products/Images/44/331564/...</td>\n",
       "    </tr>\n",
       "    <tr>\n",
       "      <th>4</th>\n",
       "      <td>Laptop MacBook Pro 14 inch M4 16GB/1TB</td>\n",
       "      <td>https://cdn.tgdd.vn/Products/Images/44/331566/...</td>\n",
       "    </tr>\n",
       "    <tr>\n",
       "      <th>...</th>\n",
       "      <td>...</td>\n",
       "      <td>...</td>\n",
       "    </tr>\n",
       "    <tr>\n",
       "      <th>68</th>\n",
       "      <td>Laptop HP 15 fd0234TU - 9Q969PA-120U (Core 5 1...</td>\n",
       "      <td>https://cdnv2.tgdd.vn/mwg-static/tgdd/Products...</td>\n",
       "    </tr>\n",
       "    <tr>\n",
       "      <th>69</th>\n",
       "      <td>Laptop HP Gaming VICTUS 15 fa1139TX - 8Y6W3PA ...</td>\n",
       "      <td>https://cdnv2.tgdd.vn/mwg-static/tgdd/Products...</td>\n",
       "    </tr>\n",
       "    <tr>\n",
       "      <th>70</th>\n",
       "      <td>Laptop HP 240 G9 - AG2J7AT (i5 1235U, 16GB, 51...</td>\n",
       "      <td>https://cdnv2.tgdd.vn/mwg-static/tgdd/Products...</td>\n",
       "    </tr>\n",
       "    <tr>\n",
       "      <th>71</th>\n",
       "      <td>Laptop HP Pavilion X360 14 ek2027TU - 9Z2V9PA ...</td>\n",
       "      <td>https://cdnv2.tgdd.vn/mwg-static/tgdd/Products...</td>\n",
       "    </tr>\n",
       "    <tr>\n",
       "      <th>72</th>\n",
       "      <td>Laptop HP Pavilion 16 af0053TU - AY8C2PA (Ultr...</td>\n",
       "      <td>https://cdnv2.tgdd.vn/mwg-static/tgdd/Products...</td>\n",
       "    </tr>\n",
       "  </tbody>\n",
       "</table>\n",
       "<p>73 rows × 2 columns</p>\n",
       "</div>"
      ],
      "text/plain": [
       "                                                 Name  \\\n",
       "0            Laptop MacBook Air 13 inch M4 16GB/256GB   \n",
       "1            Laptop MacBook Air 13 inch M2 16GB/256GB   \n",
       "2            Laptop MacBook Air 15 inch M4 16GB/256GB   \n",
       "3            Laptop MacBook Pro 14 inch M4 16GB/512GB   \n",
       "4              Laptop MacBook Pro 14 inch M4 16GB/1TB   \n",
       "..                                                ...   \n",
       "68  Laptop HP 15 fd0234TU - 9Q969PA-120U (Core 5 1...   \n",
       "69  Laptop HP Gaming VICTUS 15 fa1139TX - 8Y6W3PA ...   \n",
       "70  Laptop HP 240 G9 - AG2J7AT (i5 1235U, 16GB, 51...   \n",
       "71  Laptop HP Pavilion X360 14 ek2027TU - 9Z2V9PA ...   \n",
       "72  Laptop HP Pavilion 16 af0053TU - AY8C2PA (Ultr...   \n",
       "\n",
       "                                                thumb  \n",
       "0   https://cdn.tgdd.vn/Products/Images/44/335362/...  \n",
       "1   https://cdn.tgdd.vn/Products/Images/44/289472/...  \n",
       "2   https://cdn.tgdd.vn/Products/Images/44/335372/...  \n",
       "3   https://cdn.tgdd.vn/Products/Images/44/331564/...  \n",
       "4   https://cdn.tgdd.vn/Products/Images/44/331566/...  \n",
       "..                                                ...  \n",
       "68  https://cdnv2.tgdd.vn/mwg-static/tgdd/Products...  \n",
       "69  https://cdnv2.tgdd.vn/mwg-static/tgdd/Products...  \n",
       "70  https://cdnv2.tgdd.vn/mwg-static/tgdd/Products...  \n",
       "71  https://cdnv2.tgdd.vn/mwg-static/tgdd/Products...  \n",
       "72  https://cdnv2.tgdd.vn/mwg-static/tgdd/Products...  \n",
       "\n",
       "[73 rows x 2 columns]"
      ]
     },
     "execution_count": 8,
     "metadata": {},
     "output_type": "execute_result"
    }
   ],
   "source": [
    "df"
   ]
  }
 ],
 "metadata": {
  "kernelspec": {
   "display_name": "base",
   "language": "python",
   "name": "python3"
  },
  "language_info": {
   "codemirror_mode": {
    "name": "ipython",
    "version": 3
   },
   "file_extension": ".py",
   "mimetype": "text/x-python",
   "name": "python",
   "nbconvert_exporter": "python",
   "pygments_lexer": "ipython3",
   "version": "3.13.5"
  }
 },
 "nbformat": 4,
 "nbformat_minor": 5
}
