{
 "cells": [
  {
   "cell_type": "code",
   "execution_count": null,
   "id": "994bbc8f",
   "metadata": {},
   "outputs": [],
   "source": [
    "from numpy import get_include\n",
    "from selenium import webdriver\n",
    "from selenium.webdriver.chrome.service import Service\n",
    "from selenium.webdriver.common.by import By\n",
    "from webdriver_manager.chrome import ChromeDriverManager\n",
    "import pandas as pd\n",
    "import time\n",
    "\n",
    "# Khởi tạo trình duyệt\n",
    "driver = webdriver.Chrome(service=Service(ChromeDriverManager().install()))\n",
    "\n",
    "# Mở 1 trang sản phẩm\n",
    "\n",
    "\n",
    "\n",
    "\n",
    "def get_csv(url):\n",
    "    driver.get(url)\n",
    "    time.sleep(0.5)\n",
    "    # Lấy tên sản phẩm\n",
    "    try:\n",
    "        name = driver.find_element(By.TAG_NAME, \"h1\").text\n",
    "        # Lấy giá\n",
    "        def getprice():\n",
    "            try:\n",
    "                return driver.find_element(By.CLASS_NAME, \"bs_price\").find_element(By.TAG_NAME, \"em\").text\n",
    "            except:\n",
    "                return driver.find_element(By.CLASS_NAME, \"box-price-present\").text\n",
    "\n",
    "        print(\"Tên:\", name)\n",
    "        print(\"Giá:\", getprice())\n",
    "\n",
    "        tag_exist = ['Cấu hình']\n",
    "\n",
    "        def safe_click_get_info(driver, selector):\n",
    "            try:\n",
    "                element = driver.find_element(By.CSS_SELECTOR, selector)\n",
    "                tab_name = element.find_element(By.TAG_NAME, \"h3\").text\n",
    "                tag_exist.append(tab_name)\n",
    "                driver.execute_script(\"arguments[0].click();\", element)\n",
    "            except:\n",
    "                pass\n",
    "\n",
    "        # Click các tab\n",
    "        for i in range(2, 17):\n",
    "            safe_click_get_info(driver, f'a[data-index=\"{i}\"]')\n",
    "\n",
    "        # Thu thập dữ liệu cấu hình\n",
    "        specs_data = []\n",
    "        uls = driver.find_elements(By.CSS_SELECTOR, \"ul.text-specifi.active\")\n",
    "        for i, ul in enumerate(uls, start=1):\n",
    "            lis = ul.find_elements(By.CSS_SELECTOR, \"li\")\n",
    "            key_x = tag_exist[i-1]\n",
    "            temp = []\n",
    "            for li in lis:\n",
    "                asides = li.find_elements(By.CSS_SELECTOR, \"aside\")\n",
    "                if len(asides) >= 2:\n",
    "                    key = asides[0].text.strip()[:-1]\n",
    "                    # lấy toàn bộ text con trong aside[1] (phân cách bằng |)\n",
    "                    values = [v.strip() for v in asides[1].text.split(\"\\n\") if v.strip()]\n",
    "                    value = \" | \".join(values)\n",
    "                    temp.append((key, value))\n",
    "            specs_data.append((key_x,temp))\n",
    "\n",
    "        # Lấy ảnh\n",
    "        def get_img(selector):\n",
    "            results = []\n",
    "            elements = driver.find_elements(By.CSS_SELECTOR, selector)\n",
    "            for el in elements:\n",
    "                thumb = el.get_attribute(\"data-thumb\")\n",
    "                img = el.find_element(By.TAG_NAME, \"img\")\n",
    "                src = img.get_attribute(\"src\") or img.get_attribute(\"data-src\")\n",
    "                results.append((thumb, src))\n",
    "            return results\n",
    "\n",
    "        imgs = []\n",
    "        for i in range(1, 7):\n",
    "            imgs.extend(get_img(f\"div.owl-item.slidenumber{i} .item-img\"))\n",
    "\n",
    "        def get_img_all():\n",
    "            try:\n",
    "                elements = driver.find_element(By.CSS_SELECTOR, \"div.img-main.specification-img\")\n",
    "                return elements.find_element(By.CSS_SELECTOR,\"img\").get_attribute(\"src\")\n",
    "            except:\n",
    "                pass\n",
    "                return ''\n",
    "            \n",
    "        # Gộp dữ liệu\n",
    "        data = {\n",
    "            \"Tên\": name,\n",
    "            \"Giá\": getprice(),\n",
    "            \"Cấu hình\": \"; \".join([f\"{k}: {v}\" for k, v in specs_data]),\n",
    "            \"Ảnh\": \"; \".join([src for thumb, src in imgs]),\n",
    "            \"Ảnh tổng thế\": get_img_all()\n",
    "        }\n",
    "        return data\n",
    "    except:\n",
    "        pass\n",
    "        return []\n",
    "urls = []\n",
    "\n",
    "def geturls(s):\n",
    "    driver = webdriver.Chrome(service=Service(ChromeDriverManager().install()))\n",
    "    driver.get(f\"https://www.thegioididong.com/laptop-{s}\")\n",
    "    time.sleep(2)  # Chờ trang load, xử lý \"Xem thêm\"\n",
    "\n",
    "    links = driver.find_elements(By.CSS_SELECTOR, \"a[href^='/laptop/']\")\n",
    "    unique_links = []\n",
    "    for a in links:\n",
    "        href = a.get_attribute(\"href\")\n",
    "        if href and href.startswith(\"https://www.thegioididong.com/laptop/\"):\n",
    "            if href not in unique_links:\n",
    "                unique_links.append(href)\n",
    "        if len(unique_links) >= 30:\n",
    "            break\n",
    "    return unique_links\n",
    "\n",
    "phone = ['apple-macbook','dell','asus','hp-compaq']\n",
    "for i in phone:\n",
    "    us = geturls(i)\n",
    "    for u in us:\n",
    "        urls.append(u)\n",
    "\n",
    "# Xuất CSV\n",
    "data = []\n",
    "for url in urls:\n",
    "    a = get_csv(url)\n",
    "    if a != []:\n",
    "        data.append(a)\n",
    "df = pd.DataFrame(data)\n",
    "df.to_csv(\"product_laptop.csv\", index=False, encoding=\"utf-8-sig\")\n"
   ]
  },
  {
   "cell_type": "code",
   "execution_count": 30,
   "id": "8a9ae541",
   "metadata": {},
   "outputs": [],
   "source": [
    "from numpy import get_include\n",
    "from selenium import webdriver\n",
    "from selenium.webdriver.chrome.service import Service\n",
    "from selenium.webdriver.common.by import By\n",
    "from webdriver_manager.chrome import ChromeDriverManager\n",
    "import pandas as pd\n",
    "import time\n",
    "driver = webdriver.Chrome(service=Service(ChromeDriverManager().install()))\n",
    "# Khởi tạo trình duyệt\n",
    "def geticon(s):\n",
    "    driver.get(f\"https://www.thegioididong.com/dtdd-{s}\")\n",
    "    time.sleep(2)  # Chờ trang load, xử lý \"Xem thêm\"\n",
    "\n",
    "    names = driver.find_elements(By.CSS_SELECTOR, \".listproduct h3\")\n",
    "\n",
    "    name_product = []\n",
    "    img_product = []\n",
    "    for a in names:\n",
    "        imgs = driver.find_element(By.CSS_SELECTOR, f'img[alt=\"{a.text}\"]').get_attribute('src')\n",
    "        if not imgs:\n",
    "            imgs = driver.find_element(By.CSS_SELECTOR, f'img[alt=\"{a.text}\"]').get_attribute('data-src')\n",
    "        name_product.append(a.text)\n",
    "        img_product.append(imgs)\n",
    "    return name_product,img_product\n",
    "phone = ['samsung','oppo','realme','vivo']\n",
    "name_products = []\n",
    "img_products = []\n",
    "for i in phone:\n",
    "    names,imgs = geticon(i)\n",
    "    for name in names:\n",
    "        name_products.append(name)\n",
    "    for img in imgs:\n",
    "        img_products.append(img)\n",
    "driver.close()\n",
    "df = pd.DataFrame(\n",
    "    {\n",
    "        'Name': name_products,\n",
    "        'thumb': img_products\n",
    "    }\n",
    ")\n",
    "df.to_csv('thumb_phone.csv',index = False)"
   ]
  },
  {
   "cell_type": "code",
   "execution_count": 29,
   "id": "a3976ad9",
   "metadata": {},
   "outputs": [
    {
     "data": {
      "application/vnd.microsoft.datawrangler.viewer.v0+json": {
       "columns": [
        {
         "name": "index",
         "rawType": "int64",
         "type": "integer"
        },
        {
         "name": "Name",
         "rawType": "object",
         "type": "string"
        },
        {
         "name": "thumb",
         "rawType": "object",
         "type": "string"
        }
       ],
       "ref": "4e18ecee-962a-40c3-8a53-5baf5047ae0f",
       "rows": [
        [
         "0",
         "Samsung Galaxy S25 FE 5G 8GB/256GB",
         "https://cdn.tgdd.vn/Products/Images/42/342565/samsung-galaxy-s25-fe-navy-thumb-600x600.jpg"
        ],
        [
         "1",
         "Samsung Galaxy A17 5G 8GB/128GB",
         "https://cdn.tgdd.vn/Products/Images/42/341688/galaxy-a17-5g-gray-thumbai-600x600.jpg"
        ],
        [
         "2",
         "Samsung Galaxy A07 4GB/64GB",
         "https://cdn.tgdd.vn/Products/Images/42/341802/samsung-galaxy-a07-violet-thumb-600x600.jpg"
        ],
        [
         "3",
         "Samsung Galaxy S25 Ultra 5G 12GB/256GB",
         "https://cdn.tgdd.vn/Products/Images/42/333347/samsung-galaxy-s25-ultra-blue-thumbai-600x600.jpg"
        ],
        [
         "4",
         "Samsung Galaxy Z Fold7 5G 12GB/256GB",
         "https://cdn.tgdd.vn/Products/Images/42/338738/samsung-galaxy-z-fold7-black-thumb-1-600x600.jpg"
        ],
        [
         "5",
         "Samsung Galaxy A56 5G 12GB/256GB",
         "https://cdn.tgdd.vn/Products/Images/42/334932/samsung-galaxy-a56-5g-gray-thumb-1-600x600.jpg"
        ],
        [
         "6",
         "Samsung Galaxy A26 5G 6GB/128GB",
         "https://cdn.tgdd.vn/Products/Images/42/335915/samsung-galaxy-a26-5g-black-thumbn-600x600.jpg"
        ],
        [
         "7",
         "Samsung Galaxy A06 5G 6GB/128GB",
         "https://cdn.tgdd.vn/Products/Images/42/335234/samsung-galaxy-a06-5g-black-thumbn-600x600.jpg"
        ],
        [
         "8",
         "Samsung Galaxy A36 5G 12GB/256GB",
         "https://cdn.tgdd.vn/Products/Images/42/334930/samsung-galaxy-a36-5g-green-thumb-600x600.jpg"
        ],
        [
         "9",
         "Samsung Galaxy S24 5G 8GB/256GB",
         "https://cdn.tgdd.vn/Products/Images/42/319665/samsung-galaxy-s24-256gb-5g-thumb-600x600.jpg"
        ],
        [
         "10",
         "Samsung Galaxy Z Flip7 5G 12GB/256GB",
         "https://cdn.tgdd.vn/Products/Images/42/338736/samsung-galaxy-z-flip7-red-thumb-600x600.jpg"
        ],
        [
         "11",
         "Samsung Galaxy S24 FE 5G 8GB/256GB",
         "https://cdn.tgdd.vn/Products/Images/42/329785/samsung-galaxy-s24-fe-8gb-256gb-thumb-600x600.jpg"
        ],
        [
         "12",
         "Samsung Galaxy S25 5G 12GB/256GB",
         "https://cdn.tgdd.vn/Products/Images/42/333363/samsung-galaxy-s25-green-thumbai-600x600.jpg"
        ],
        [
         "13",
         "Samsung Galaxy Z Flip7 FE 5G 8GB/128GB",
         "https://cdn.tgdd.vn/Products/Images/42/338741/samsung-galaxy-z-flip7-fe-white-thumb-600x600.jpg"
        ],
        [
         "14",
         "Samsung Galaxy Z Fold6 5G 12GB/256GB",
         "https://cdn.tgdd.vn/Products/Images/42/320721/samsung-galaxy-z-fold6-navy-thumbn-600x600.jpg"
        ],
        [
         "15",
         "Samsung Galaxy A16 5G 8GB/256GB",
         "https://cdn.tgdd.vn/Products/Images/42/331204/samsung-galaxy-a16-5g-gold-thumb-600x600.jpg"
        ],
        [
         "16",
         "Samsung Galaxy A06 4GB/64GB",
         "https://cdn.tgdd.vn/Products/Images/42/328752/samsung-galaxy-a06-blue-thumbn-600x600.jpg"
        ],
        [
         "17",
         "Samsung Galaxy S24 Ultra 5G 12GB/256GB",
         "https://cdn.tgdd.vn/Products/Images/42/307174/samsung-galaxy-s24-ultra-5g-600x600.jpg"
        ],
        [
         "18",
         "Samsung Galaxy A16 8GB/128GB",
         "https://cdn.tgdd.vn/Products/Images/42/331207/samsung-galaxy-a16-green-thumb-1-600x600.jpg"
        ],
        [
         "19",
         "Samsung Galaxy S25 Plus 5G 12GB/256GB",
         "https://cdn.tgdd.vn/Products/Images/42/333359/samsung-galaxy-s25-plus-blue-thumbai-600x600.jpg"
        ],
        [
         "20",
         "OPPO A5 8GB/128GB",
         "https://cdn.tgdd.vn/Products/Images/42/341378/oppo-a5-green-thumbn-600x600.jpg"
        ],
        [
         "21",
         "OPPO Reno14 F 5G 12GB/256GB",
         "https://cdn.tgdd.vn/Products/Images/42/339177/oppo-reno14-f-5g-blue-thumb-600x600.jpg"
        ],
        [
         "22",
         "OPPO A5x 4GB/64GB",
         "https://cdn.tgdd.vn/Products/Images/42/337846/dien-thoai-oppo-a5x-blue-thumb-600x600.jpg"
        ],
        [
         "23",
         "OPPO A5 Pro 8GB/256GB",
         "https://cdn.tgdd.vn/Products/Images/42/334323/oppo-a5-pro-blue-thumbai-600x600.jpg"
        ],
        [
         "24",
         "OPPO Reno14 Pro 5G 12GB/512GB",
         "https://cdn.tgdd.vn/Products/Images/42/339172/oppo-reno14-pro-5g-white-thumb-600x600.jpg"
        ],
        [
         "25",
         "OPPO Reno13 5G 12GB/256GB",
         "https://cdn.tgdd.vn/Products/Images/42/332934/oppo-reno13-blue-thumbnew-600x600.jpg"
        ],
        [
         "26",
         "OPPO A3x 4GB/64GB",
         "https://cdn.tgdd.vn/Products/Images/42/328449/oppo-a3x-red-thumb-600x600.jpg"
        ],
        [
         "27",
         "OPPO Find N5 5G 16GB/512GB",
         "https://cdn.tgdd.vn/Products/Images/42/334938/oppo-find-n5-black-thumb-600x600.jpg"
        ],
        [
         "28",
         "OPPO A3 8GB/128GB",
         "https://cdn.tgdd.vn/Products/Images/42/328454/oppo-a3-black-thumb-1-600x600.jpg"
        ],
        [
         "29",
         "OPPO A60 8GB/128GB",
         "https://cdn.tgdd.vn/Products/Images/42/323543/oppo-a60-blue-thumb-600x600.jpg"
        ],
        [
         "30",
         "OPPO Reno12 F 5G 12GB/256GB",
         "https://cdn.tgdd.vn/Products/Images/42/327190/oppo-reno12-f-5g-cam-thumbai-600x600.jpg"
        ],
        [
         "31",
         "OPPO Reno13 Pro 5G 12GB/512GB",
         "https://cdn.tgdd.vn/Products/Images/42/332937/oppo-reoo13-pro-5g-gray-thumbnew-600x600.jpg"
        ],
        [
         "32",
         "OPPO Find X8 5G 16GB/512GB Hồng",
         "https://cdn.tgdd.vn/Products/Images/42/334168/oppo-find-x8-hong-thumb-600x600.jpg"
        ],
        [
         "33",
         "OPPO Reno14 F 5G 8GB/256GB Hồng",
         "https://cdn.tgdd.vn/Products/Images/42/339624/oppo-reno14-f-5g-pink-thumb-600x600.jpg"
        ],
        [
         "34",
         "OPPO Reno14 5G 12GB/512GB",
         "https://cdn.tgdd.vn/Products/Images/42/339174/oppo-reno14-5g-green-thumb-600x600.jpg"
        ],
        [
         "35",
         "OPPO Reno13 F 5G 8GB/256GB",
         "https://cdn.tgdd.vn/Products/Images/42/332936/oppo-reno13-f-blue-thumbnew-600x600.jpg"
        ],
        [
         "36",
         "OPPO A5i 4GB/64GB",
         "https://cdn.tgdd.vn/Products/Images/42/340259/oppo-a5i-purple-thumb-600x600.jpg"
        ],
        [
         "37",
         "OPPO Reno12 F 8GB/256GB",
         "https://cdn.tgdd.vn/Products/Images/42/328306/oppo-reno12-f-4g-8gb-256gb-thumb-600x600.jpg"
        ],
        [
         "38",
         "OPPO A58 8GB/128GB",
         "https://cdn.tgdd.vn/Products/Images/42/311354/oppo-a58-4g-green-thumb-600x600.jpg"
        ],
        [
         "39",
         "OPPO A5i Pro 8GB/128GB",
         "https://cdn.tgdd.vn/Products/Images/42/340255/oppo-a5i-pro-white-thumb-600x600.jpg"
        ],
        [
         "40",
         "realme Note 70 4GB/64GB",
         "https://cdnv2.tgdd.vn/mwg-static/tgdd/Products/Images/42/340260/realme-note-70-4gb-64gb-160725-095001-095-600x600.jpg"
        ],
        [
         "41",
         "realme 14T 5G 8GB/256GB",
         "https://cdn.tgdd.vn/Products/Images/42/336619/realme-14t-5g-purple-thumb-600x600.jpg"
        ],
        [
         "42",
         "realme 14 5G 12GB/256GB",
         "https://cdn.tgdd.vn/Products/Images/42/336623/realme-14-5g-sliver-thumb-600x600.jpg"
        ],
        [
         "43",
         "realme C71 4GB/128GB",
         "https://cdn.tgdd.vn/Products/Images/42/337741/realme-c71-trang-thumb-600x600.jpg"
        ],
        [
         "44",
         "realme C75x 8GB/128GB",
         "https://cdn.tgdd.vn/Products/Images/42/335307/realme-c75x-pink-thumbn-600x600.jpg"
        ],
        [
         "45",
         "realme C75 8GB/128GB",
         "https://cdn.tgdd.vn/Products/Images/42/332234/realme-c75-8gb-128gb-thumb-1-600x600.jpg"
        ],
        [
         "46",
         "realme C65s 8GB/256GB",
         "https://cdn.tgdd.vn/Products/Images/42/328626/realme-c65s-green-thumb-600x600.jpg"
        ],
        [
         "47",
         "realme Note 60x 4GB/64GB",
         "https://cdnv2.tgdd.vn/mwg-static/tgdd/Products/Images/42/333281/realme-note-60x-4gb-191224-040048-245-600x600.jpg"
        ],
        [
         "48",
         "realme Note 60 6GB/128GB",
         "https://cdn.tgdd.vn/Products/Images/42/329330/realme-note-60-black-thumb-600x600.jpg"
        ],
        [
         "49",
         "vivo V50 Lite 5G 8GB/256GB",
         "https://cdn.tgdd.vn/Products/Images/42/336408/vivo-v50-lite-gold-5g-thumbai-600x600.jpg"
        ]
       ],
       "shape": {
        "columns": 2,
        "rows": 64
       }
      },
      "text/html": [
       "<div>\n",
       "<style scoped>\n",
       "    .dataframe tbody tr th:only-of-type {\n",
       "        vertical-align: middle;\n",
       "    }\n",
       "\n",
       "    .dataframe tbody tr th {\n",
       "        vertical-align: top;\n",
       "    }\n",
       "\n",
       "    .dataframe thead th {\n",
       "        text-align: right;\n",
       "    }\n",
       "</style>\n",
       "<table border=\"1\" class=\"dataframe\">\n",
       "  <thead>\n",
       "    <tr style=\"text-align: right;\">\n",
       "      <th></th>\n",
       "      <th>Name</th>\n",
       "      <th>thumb</th>\n",
       "    </tr>\n",
       "  </thead>\n",
       "  <tbody>\n",
       "    <tr>\n",
       "      <th>0</th>\n",
       "      <td>Samsung Galaxy S25 FE 5G 8GB/256GB</td>\n",
       "      <td>https://cdn.tgdd.vn/Products/Images/42/342565/...</td>\n",
       "    </tr>\n",
       "    <tr>\n",
       "      <th>1</th>\n",
       "      <td>Samsung Galaxy A17 5G 8GB/128GB</td>\n",
       "      <td>https://cdn.tgdd.vn/Products/Images/42/341688/...</td>\n",
       "    </tr>\n",
       "    <tr>\n",
       "      <th>2</th>\n",
       "      <td>Samsung Galaxy A07 4GB/64GB</td>\n",
       "      <td>https://cdn.tgdd.vn/Products/Images/42/341802/...</td>\n",
       "    </tr>\n",
       "    <tr>\n",
       "      <th>3</th>\n",
       "      <td>Samsung Galaxy S25 Ultra 5G 12GB/256GB</td>\n",
       "      <td>https://cdn.tgdd.vn/Products/Images/42/333347/...</td>\n",
       "    </tr>\n",
       "    <tr>\n",
       "      <th>4</th>\n",
       "      <td>Samsung Galaxy Z Fold7 5G 12GB/256GB</td>\n",
       "      <td>https://cdn.tgdd.vn/Products/Images/42/338738/...</td>\n",
       "    </tr>\n",
       "    <tr>\n",
       "      <th>...</th>\n",
       "      <td>...</td>\n",
       "      <td>...</td>\n",
       "    </tr>\n",
       "    <tr>\n",
       "      <th>59</th>\n",
       "      <td>vivo V50 Lite 8GB/256GB</td>\n",
       "      <td>https://cdn.tgdd.vn/Products/Images/42/336702/...</td>\n",
       "    </tr>\n",
       "    <tr>\n",
       "      <th>60</th>\n",
       "      <td>vivo Y03 4GB/128GB</td>\n",
       "      <td>https://cdn.tgdd.vn/Products/Images/42/322996/...</td>\n",
       "    </tr>\n",
       "    <tr>\n",
       "      <th>61</th>\n",
       "      <td>vivo Y28 8GB/256GB</td>\n",
       "      <td>https://cdn.tgdd.vn/Products/Images/42/326023/...</td>\n",
       "    </tr>\n",
       "    <tr>\n",
       "      <th>62</th>\n",
       "      <td>vivo V40 5G 12GB/256GB</td>\n",
       "      <td>https://cdn.tgdd.vn/Products/Images/42/331985/...</td>\n",
       "    </tr>\n",
       "    <tr>\n",
       "      <th>63</th>\n",
       "      <td>vivo Y18 4GB/128GB</td>\n",
       "      <td>https://cdn.tgdd.vn/Products/Images/42/327254/...</td>\n",
       "    </tr>\n",
       "  </tbody>\n",
       "</table>\n",
       "<p>64 rows × 2 columns</p>\n",
       "</div>"
      ],
      "text/plain": [
       "                                      Name  \\\n",
       "0       Samsung Galaxy S25 FE 5G 8GB/256GB   \n",
       "1          Samsung Galaxy A17 5G 8GB/128GB   \n",
       "2              Samsung Galaxy A07 4GB/64GB   \n",
       "3   Samsung Galaxy S25 Ultra 5G 12GB/256GB   \n",
       "4     Samsung Galaxy Z Fold7 5G 12GB/256GB   \n",
       "..                                     ...   \n",
       "59                 vivo V50 Lite 8GB/256GB   \n",
       "60                      vivo Y03 4GB/128GB   \n",
       "61                      vivo Y28 8GB/256GB   \n",
       "62                  vivo V40 5G 12GB/256GB   \n",
       "63                      vivo Y18 4GB/128GB   \n",
       "\n",
       "                                                thumb  \n",
       "0   https://cdn.tgdd.vn/Products/Images/42/342565/...  \n",
       "1   https://cdn.tgdd.vn/Products/Images/42/341688/...  \n",
       "2   https://cdn.tgdd.vn/Products/Images/42/341802/...  \n",
       "3   https://cdn.tgdd.vn/Products/Images/42/333347/...  \n",
       "4   https://cdn.tgdd.vn/Products/Images/42/338738/...  \n",
       "..                                                ...  \n",
       "59  https://cdn.tgdd.vn/Products/Images/42/336702/...  \n",
       "60  https://cdn.tgdd.vn/Products/Images/42/322996/...  \n",
       "61  https://cdn.tgdd.vn/Products/Images/42/326023/...  \n",
       "62  https://cdn.tgdd.vn/Products/Images/42/331985/...  \n",
       "63  https://cdn.tgdd.vn/Products/Images/42/327254/...  \n",
       "\n",
       "[64 rows x 2 columns]"
      ]
     },
     "execution_count": 29,
     "metadata": {},
     "output_type": "execute_result"
    }
   ],
   "source": [
    "df"
   ]
  }
 ],
 "metadata": {
  "kernelspec": {
   "display_name": "base",
   "language": "python",
   "name": "python3"
  },
  "language_info": {
   "codemirror_mode": {
    "name": "ipython",
    "version": 3
   },
   "file_extension": ".py",
   "mimetype": "text/x-python",
   "name": "python",
   "nbconvert_exporter": "python",
   "pygments_lexer": "ipython3",
   "version": "3.13.5"
  }
 },
 "nbformat": 4,
 "nbformat_minor": 5
}
